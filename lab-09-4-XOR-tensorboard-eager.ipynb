{
  "cells": [
    {
      "cell_type": "markdown",
      "metadata": {
        "id": "i1xk-jH6yFS7"
      },
      "source": [
        "# Lab 09 XOR - tensorboard - eager\n",
        "* XOR 문제를 Deep Neural Network 활용해 풀어보고 Tensorboard에 출력해 보도록 하겠습니다.\n",
        "\n",
        "### 기본 Library 선언 및 Tensorflow 버전 확인"
      ]
    },
    {
      "cell_type": "code",
      "execution_count": 29,
      "metadata": {
        "scrolled": true,
        "id": "HHUTeWB4yFS8",
        "outputId": "56766115-468d-4b57-a4c5-0f0fb5333cac",
        "colab": {
          "base_uri": "https://localhost:8080/"
        }
      },
      "outputs": [
        {
          "output_type": "stream",
          "name": "stdout",
          "text": [
            "2.18.0\n"
          ]
        }
      ],
      "source": [
        "import numpy as np\n",
        "import matplotlib.pyplot as plt\n",
        "%matplotlib inline\n",
        "import tensorflow as tf\n",
        "#import tensorflow.contrib.eager as tfe\n",
        "\n",
        "#tf.enable_eager_execution()\n",
        "tf.random.set_seed(777)  # for reproducibility\n",
        "\n",
        "print(tf.__version__)"
      ]
    },
    {
      "cell_type": "markdown",
      "metadata": {
        "id": "e-EXlHUsyFS9"
      },
      "source": [
        "### 강의에 설명할 Data입니다\n",
        "* x_data가 2차원 배열이기에 2차원 공간에 표현하여 x1과 x2를 기준으로 y_data 0과 1로 구분하는 예제입니다\n",
        "* 붉은색과 푸른색으로 0과 1을 표시해 보도록 하겠습니다."
      ]
    },
    {
      "cell_type": "code",
      "execution_count": 30,
      "metadata": {
        "scrolled": true,
        "id": "uautaaWtyFS9",
        "outputId": "83714a8c-8ba1-496d-ef15-29add1f60880",
        "colab": {
          "base_uri": "https://localhost:8080/",
          "height": 449
        }
      },
      "outputs": [
        {
          "output_type": "display_data",
          "data": {
            "text/plain": [
              "<Figure size 640x480 with 1 Axes>"
            ],
            "image/png": "[encoded data removed]"
          },
          "metadata": {}
        }
      ],
      "source": [
        "x_data = [[0, 0],\n",
        "          [0, 1],\n",
        "          [1, 0],\n",
        "          [1, 1]]\n",
        "y_data = [[0],\n",
        "          [1],\n",
        "          [1],\n",
        "          [0]]\n",
        "\n",
        "plt.scatter(x_data[0][0],x_data[0][1], c='red' , marker='^')\n",
        "plt.scatter(x_data[3][0],x_data[3][1], c='red' , marker='^')\n",
        "plt.scatter(x_data[1][0],x_data[1][1], c='blue' , marker='^')\n",
        "plt.scatter(x_data[2][0],x_data[2][1], c='blue' , marker='^')\n",
        "\n",
        "plt.xlabel(\"x1\")\n",
        "plt.ylabel(\"x2\")\n",
        "plt.show()"
      ]
    },
    {
      "cell_type": "markdown",
      "metadata": {
        "id": "zWoAfq-1yFS9"
      },
      "source": [
        "##  Tensorboard\n",
        "### 위 Data를 기준으로 XOR처리를 위한 모델을 만들도록 하겠습니다\n",
        "* 위의 Data를 4Layer의 Neural Network를 통해 학습시킨 후 모델을 생성합니다.\n",
        "* tensorboard --logdir=./logs/ 실행합니다.\n",
        "* summary 값을 logs폴더에 저장하고 아래 명령어로 실행해서 확인한다 (http://0.0.0.0:6006)"
      ]
    },
    {
      "cell_type": "code",
      "execution_count": 31,
      "metadata": {
        "id": "d57awjUtyFS9"
      },
      "outputs": [],
      "source": [
        "dataset = tf.data.Dataset.from_tensor_slices((x_data, y_data)).batch(len(x_data))\n",
        "\n",
        "def preprocess_data(features, labels):\n",
        "    features = tf.cast(features, tf.float32)\n",
        "    labels = tf.cast(labels, tf.float32)\n",
        "    return features, labels"
      ]
    },
    {
      "cell_type": "markdown",
      "metadata": {
        "id": "L4Z647r7yFS-"
      },
      "source": [
        "### Deep Neural Network를 통해 XOR해결\n",
        "* 위의 Data를 4Layer의 Neural Network를 통해 학습시킨 후 모델을 생성합니다.\n",
        "* 각각의 값을 histogram으로 tensorboard에 저장한다 (Model)\n",
        "* 각각의 값을 scalar값으로 tensorboard에 저장한다 (cost, accuracy)"
      ]
    },
    {
      "cell_type": "code",
      "execution_count": 32,
      "metadata": {
        "id": "FhknGCsIyFS-"
      },
      "outputs": [],
      "source": [
        "W1 = tf.Variable(tf.random.normal([2, 10]), name='weight1')\n",
        "b1 = tf.Variable(tf.random.normal([10]), name='bias1')\n",
        "\n",
        "W2 = tf.Variable(tf.random.normal([10, 10]), name='weight2')\n",
        "b2 = tf.Variable(tf.random.normal([10]), name='bias2')\n",
        "\n",
        "W3 = tf.Variable(tf.random.normal([10, 10]), name='weight3')\n",
        "b3 = tf.Variable(tf.random.normal([10]), name='bias3')\n",
        "\n",
        "W4 = tf.Variable(tf.random.normal([10, 1]), name='weight4')\n",
        "b4 = tf.Variable(tf.random.normal([1]), name='bias4')\n",
        "\n",
        "def neural_net(features):\n",
        "    layer1 = tf.sigmoid(tf.matmul(features, W1) + b1)\n",
        "    layer2 = tf.sigmoid(tf.matmul(layer1, W2) + b2)\n",
        "    layer3 = tf.sigmoid(tf.matmul(layer2, W3) + b3)\n",
        "    hypothesis = tf.sigmoid(tf.matmul(layer3, W4) + b4)\n",
        "\n",
        "    with writer.as_default():\n",
        "        tf.summary.histogram(\"weights1\", W1, step=global_step)\n",
        "        tf.summary.histogram(\"biases1\", b1, step=global_step)\n",
        "        tf.summary.histogram(\"layer1\", layer1, step=global_step)\n",
        "\n",
        "        tf.summary.histogram(\"weights2\", W2, step=global_step)\n",
        "        tf.summary.histogram(\"biases2\", b2, step=global_step)\n",
        "        tf.summary.histogram(\"layer2\", layer2, step=global_step)\n",
        "\n",
        "        tf.summary.histogram(\"weights3\", W3, step=global_step)\n",
        "        tf.summary.histogram(\"biases3\", b3, step=global_step)\n",
        "        tf.summary.histogram(\"layer3\", layer3, step=global_step)\n",
        "\n",
        "        tf.summary.histogram(\"weights4\", W4, step=global_step)\n",
        "        tf.summary.histogram(\"biases4\", b4, step=global_step)\n",
        "        tf.summary.histogram(\"hypothesis\", hypothesis, step=global_step)\n",
        "    return hypothesis\n",
        "\n",
        "def loss_fn(hypothesis, labels):\n",
        "    cost = -tf.reduce_mean(labels * tf.math.log(hypothesis) + (1 - labels) * tf.math.log(1 - hypothesis))\n",
        "    with writer.as_default() :\n",
        "        tf.summary.scalar('loss', cost, step=global_step)\n",
        "    return cost\n",
        "\n",
        "optimizer = tf.keras.optimizers.SGD(learning_rate=0.1)\n",
        "\n",
        "def accuracy_fn(hypothesis, labels):\n",
        "    predicted = tf.cast(hypothesis > 0.5, dtype=tf.float32)\n",
        "    accuracy = tf.reduce_mean(tf.cast(tf.equal(predicted, labels), dtype=tf.float32))\n",
        "    return accuracy\n",
        "\n",
        "def grad(hypothesis, features, labels):\n",
        "    with tf.GradientTape() as tape:\n",
        "        loss_value = loss_fn(neural_net(features),labels)\n",
        "    return tape.gradient(loss_value, [W1, W2, W3, W4, b1, b2, b3, b4])"
      ]
    },
    {
      "cell_type": "markdown",
      "metadata": {
        "id": "0UzQ0wMHyFS-"
      },
      "source": [
        "* summary 값을 logs폴더에 저장하고 아래 명령어로 실행해서 확인한다 (http://0.0.0.0:6006)\n",
        "* tensorboard --logdir=./logs/"
      ]
    },
    {
      "cell_type": "code",
      "execution_count": 33,
      "metadata": {
        "id": "ZdSzxSEHyFS-",
        "outputId": "2c081fc9-ae08-48ce-8285-7d3c033c7c42",
        "colab": {
          "base_uri": "https://localhost:8080/"
        }
      },
      "outputs": [
        {
          "output_type": "stream",
          "name": "stdout",
          "text": [
            "Iter: 0, Loss: 0.9517\n",
            "Iter: 50, Loss: 0.6936\n",
            "Iter: 100, Loss: 0.6923\n",
            "Iter: 150, Loss: 0.6912\n",
            "Iter: 200, Loss: 0.6901\n",
            "Iter: 250, Loss: 0.6890\n",
            "Iter: 300, Loss: 0.6879\n",
            "Iter: 350, Loss: 0.6867\n",
            "Iter: 400, Loss: 0.6855\n",
            "Iter: 450, Loss: 0.6842\n",
            "Iter: 500, Loss: 0.6827\n",
            "Iter: 550, Loss: 0.6811\n",
            "Iter: 600, Loss: 0.6793\n",
            "Iter: 650, Loss: 0.6772\n",
            "Iter: 700, Loss: 0.6749\n",
            "Iter: 750, Loss: 0.6722\n",
            "Iter: 800, Loss: 0.6690\n",
            "Iter: 850, Loss: 0.6654\n",
            "Iter: 900, Loss: 0.6611\n",
            "Iter: 950, Loss: 0.6561\n",
            "Iter: 1000, Loss: 0.6502\n",
            "Iter: 1050, Loss: 0.6432\n",
            "Iter: 1100, Loss: 0.6349\n",
            "Iter: 1150, Loss: 0.6251\n",
            "Iter: 1200, Loss: 0.6134\n",
            "Iter: 1250, Loss: 0.5992\n",
            "Iter: 1300, Loss: 0.5821\n",
            "Iter: 1350, Loss: 0.5612\n",
            "Iter: 1400, Loss: 0.5357\n",
            "Iter: 1450, Loss: 0.5047\n",
            "Iter: 1500, Loss: 0.4677\n",
            "Iter: 1550, Loss: 0.4248\n",
            "Iter: 1600, Loss: 0.3774\n",
            "Iter: 1650, Loss: 0.3281\n",
            "Iter: 1700, Loss: 0.2798\n",
            "Iter: 1750, Loss: 0.2356\n",
            "Iter: 1800, Loss: 0.1971\n",
            "Iter: 1850, Loss: 0.1649\n",
            "Iter: 1900, Loss: 0.1385\n",
            "Iter: 1950, Loss: 0.1173\n",
            "Iter: 2000, Loss: 0.1003\n",
            "Iter: 2050, Loss: 0.0865\n",
            "Iter: 2100, Loss: 0.0754\n",
            "Iter: 2150, Loss: 0.0663\n",
            "Iter: 2200, Loss: 0.0588\n",
            "Iter: 2250, Loss: 0.0526\n",
            "Iter: 2300, Loss: 0.0474\n",
            "Iter: 2350, Loss: 0.0429\n",
            "Iter: 2400, Loss: 0.0392\n",
            "Iter: 2450, Loss: 0.0359\n",
            "Iter: 2500, Loss: 0.0331\n",
            "Iter: 2550, Loss: 0.0306\n",
            "Iter: 2600, Loss: 0.0285\n",
            "Iter: 2650, Loss: 0.0265\n",
            "Iter: 2700, Loss: 0.0248\n",
            "Iter: 2750, Loss: 0.0233\n",
            "Iter: 2800, Loss: 0.0220\n",
            "Iter: 2850, Loss: 0.0207\n",
            "Iter: 2900, Loss: 0.0196\n",
            "Iter: 2950, Loss: 0.0186\n",
            "Testset Accuracy: 1.0000\n"
          ]
        }
      ],
      "source": [
        "EPOCHS = 3000\n",
        "log_path = \"./logs/xor_eager_logs_r0_01\"\n",
        "writer = tf.summary.create_file_writer(log_path)\n",
        "# global_step = tf.train.get_or_create_global_step()  # global step variable\n",
        "global_step = tf.Variable(0, trainable=False, dtype=tf.int64, name='global_step')\n",
        "writer.set_as_default()\n",
        "\n",
        "for step in range(EPOCHS):\n",
        "    global_step.assign_add(1)\n",
        "    for features, labels  in dataset :\n",
        "        features, labels = preprocess_data(features, labels)\n",
        "        grads = grad(neural_net(features), features, labels)\n",
        "        optimizer.apply_gradients(grads_and_vars=zip(grads,[W1, W2, W3, W4, b1, b2, b3, b4]))\n",
        "        if step % 50 == 0:\n",
        "            loss_value = loss_fn(neural_net(features),labels)\n",
        "            print(\"Iter: {}, Loss: {:.4f}\".format(step, loss_value))\n",
        "x_data, y_data = preprocess_data(x_data, y_data)\n",
        "test_acc = accuracy_fn(neural_net(x_data),y_data)\n",
        "print(\"Testset Accuracy: {:.4f}\".format(test_acc))"
      ]
    },
    {
      "cell_type": "code",
      "execution_count": 33,
      "metadata": {
        "id": "IXEqHGsYyFS-"
      },
      "outputs": [],
      "source": []
    },
    {
      "cell_type": "code",
      "execution_count": 33,
      "metadata": {
        "id": "p6Tzv_n1yFS-"
      },
      "outputs": [],
      "source": []
    }
  ],
  "metadata": {
    "kernelspec": {
      "display_name": "Python 3",
      "language": "python",
      "name": "python3"
    },
    "language_info": {
      "codemirror_mode": {
        "name": "ipython",
        "version": 3
      },
      "file_extension": ".py",
      "mimetype": "text/x-python",
      "name": "python",
      "nbconvert_exporter": "python",
      "pygments_lexer": "ipython3",
      "version": "3.6.5"
    },
    "colab": {
      "provenance": []
    }
  },
  "nbformat": 4,
  "nbformat_minor": 0
}